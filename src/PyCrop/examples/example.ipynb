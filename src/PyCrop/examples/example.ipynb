{
 "cells": [
  {
   "cell_type": "markdown",
   "metadata": {},
   "source": [
    "## PyCrop##\n",
    "A pure Python implementation of a simple empirical model of crop maturation, built from the FORTRAN DSSAT simple crop-soil water model exaple from\n",
    "http://dssat.net/about/modular-approach-example\n",
    "\n",
    "    Original FORTRAN code: RICARDO BRAGA and JADIR ROSA (for course AGE 5646-Agricultural and Biological Systems Simulation), date: 03/31/1997 Modified 07/1999 \n",
    "\n",
    "Re-written in Python 3, by Benjamin A. Laken (benlaken@gmail.com) http://www.blaken.com"
   ]
  },
  {
   "cell_type": "code",
   "execution_count": 1,
   "metadata": {
    "collapsed": false
   },
   "outputs": [
    {
     "data": {
      "text/html": [
       "\n",
       "    <div class=\"bk-root\">\n",
       "        <a href=\"http://bokeh.pydata.org\" target=\"_blank\" class=\"bk-logo bk-logo-small bk-logo-notebook\"></a>\n",
       "        <span id=\"a32ad8c9-7796-4b0b-a375-9beafcfeb972\">Loading BokehJS ...</span>\n",
       "    </div>"
      ]
     },
     "metadata": {},
     "output_type": "display_data"
    },
    {
     "data": {
      "application/javascript": [
       "\n",
       "(function(global) {\n",
       "  function now() {\n",
       "    return new Date();\n",
       "  }\n",
       "\n",
       "  var force = \"1\";\n",
       "\n",
       "  if (typeof (window._bokeh_onload_callbacks) === \"undefined\" || force !== \"\") {\n",
       "    window._bokeh_onload_callbacks = [];\n",
       "    window._bokeh_is_loading = undefined;\n",
       "  }\n",
       "\n",
       "\n",
       "  \n",
       "  if (typeof (window._bokeh_timeout) === \"undefined\" || force !== \"\") {\n",
       "    window._bokeh_timeout = Date.now() + 5000;\n",
       "    window._bokeh_failed_load = false;\n",
       "  }\n",
       "\n",
       "  var NB_LOAD_WARNING = {'data': {'text/html':\n",
       "     \"<div style='background-color: #fdd'>\\n\"+\n",
       "     \"<p>\\n\"+\n",
       "     \"BokehJS does not appear to have successfully loaded. If loading BokehJS from CDN, this \\n\"+\n",
       "     \"may be due to a slow or bad network connection. Possible fixes:\\n\"+\n",
       "     \"</p>\\n\"+\n",
       "     \"<ul>\\n\"+\n",
       "     \"<li>re-rerun `output_notebook()` to attempt to load from CDN again, or</li>\\n\"+\n",
       "     \"<li>use INLINE resources instead, as so:</li>\\n\"+\n",
       "     \"</ul>\\n\"+\n",
       "     \"<code>\\n\"+\n",
       "     \"from bokeh.resources import INLINE\\n\"+\n",
       "     \"output_notebook(resources=INLINE)\\n\"+\n",
       "     \"</code>\\n\"+\n",
       "     \"</div>\"}};\n",
       "\n",
       "  function display_loaded() {\n",
       "    if (window.Bokeh !== undefined) {\n",
       "      Bokeh.$(\"#a32ad8c9-7796-4b0b-a375-9beafcfeb972\").text(\"BokehJS successfully loaded.\");\n",
       "    } else if (Date.now() < window._bokeh_timeout) {\n",
       "      setTimeout(display_loaded, 100)\n",
       "    }\n",
       "  }\n",
       "\n",
       "  function run_callbacks() {\n",
       "    window._bokeh_onload_callbacks.forEach(function(callback) { callback() });\n",
       "    delete window._bokeh_onload_callbacks\n",
       "    console.info(\"Bokeh: all callbacks have finished\");\n",
       "  }\n",
       "\n",
       "  function load_libs(js_urls, callback) {\n",
       "    window._bokeh_onload_callbacks.push(callback);\n",
       "    if (window._bokeh_is_loading > 0) {\n",
       "      console.log(\"Bokeh: BokehJS is being loaded, scheduling callback at\", now());\n",
       "      return null;\n",
       "    }\n",
       "    if (js_urls == null || js_urls.length === 0) {\n",
       "      run_callbacks();\n",
       "      return null;\n",
       "    }\n",
       "    console.log(\"Bokeh: BokehJS not loaded, scheduling load and callback at\", now());\n",
       "    window._bokeh_is_loading = js_urls.length;\n",
       "    for (var i = 0; i < js_urls.length; i++) {\n",
       "      var url = js_urls[i];\n",
       "      var s = document.createElement('script');\n",
       "      s.src = url;\n",
       "      s.async = false;\n",
       "      s.onreadystatechange = s.onload = function() {\n",
       "        window._bokeh_is_loading--;\n",
       "        if (window._bokeh_is_loading === 0) {\n",
       "          console.log(\"Bokeh: all BokehJS libraries loaded\");\n",
       "          run_callbacks()\n",
       "        }\n",
       "      };\n",
       "      s.onerror = function() {\n",
       "        console.warn(\"failed to load library \" + url);\n",
       "      };\n",
       "      console.log(\"Bokeh: injecting script tag for BokehJS library: \", url);\n",
       "      document.getElementsByTagName(\"head\")[0].appendChild(s);\n",
       "    }\n",
       "  };var element = document.getElementById(\"a32ad8c9-7796-4b0b-a375-9beafcfeb972\");\n",
       "  if (element == null) {\n",
       "    console.log(\"Bokeh: ERROR: autoload.js configured with elementid 'a32ad8c9-7796-4b0b-a375-9beafcfeb972' but no matching script tag was found. \")\n",
       "    return false;\n",
       "  }\n",
       "\n",
       "  var js_urls = ['https://cdn.pydata.org/bokeh/release/bokeh-0.12.2.min.js', 'https://cdn.pydata.org/bokeh/release/bokeh-widgets-0.12.2.min.js', 'https://cdn.pydata.org/bokeh/release/bokeh-compiler-0.12.2.min.js'];\n",
       "\n",
       "  var inline_js = [\n",
       "    function(Bokeh) {\n",
       "      Bokeh.set_log_level(\"info\");\n",
       "    },\n",
       "    \n",
       "    function(Bokeh) {\n",
       "      \n",
       "      Bokeh.$(\"#a32ad8c9-7796-4b0b-a375-9beafcfeb972\").text(\"BokehJS is loading...\");\n",
       "    },\n",
       "    function(Bokeh) {\n",
       "      console.log(\"Bokeh: injecting CSS: https://cdn.pydata.org/bokeh/release/bokeh-0.12.2.min.css\");\n",
       "      Bokeh.embed.inject_css(\"https://cdn.pydata.org/bokeh/release/bokeh-0.12.2.min.css\");\n",
       "      console.log(\"Bokeh: injecting CSS: https://cdn.pydata.org/bokeh/release/bokeh-widgets-0.12.2.min.css\");\n",
       "      Bokeh.embed.inject_css(\"https://cdn.pydata.org/bokeh/release/bokeh-widgets-0.12.2.min.css\");\n",
       "    }\n",
       "  ];\n",
       "\n",
       "  function run_inline_js() {\n",
       "    \n",
       "    if ((window.Bokeh !== undefined) || (force === \"1\")) {\n",
       "      for (var i = 0; i < inline_js.length; i++) {\n",
       "        inline_js[i](window.Bokeh);\n",
       "      }if (force === \"1\") {\n",
       "        display_loaded();\n",
       "      }} else if (Date.now() < window._bokeh_timeout) {\n",
       "      setTimeout(run_inline_js, 100);\n",
       "    } else if (!window._bokeh_failed_load) {\n",
       "      console.log(\"Bokeh: BokehJS failed to load within specified timeout.\");\n",
       "      window._bokeh_failed_load = true;\n",
       "    } else if (!force) {\n",
       "      var cell = $(\"#a32ad8c9-7796-4b0b-a375-9beafcfeb972\").parents('.cell').data().cell;\n",
       "      cell.output_area.append_execute_result(NB_LOAD_WARNING)\n",
       "    }\n",
       "\n",
       "  }\n",
       "\n",
       "  if (window._bokeh_is_loading === 0) {\n",
       "    console.log(\"Bokeh: BokehJS loaded, going straight to plotting\");\n",
       "    run_inline_js();\n",
       "  } else {\n",
       "    load_libs(js_urls, function() {\n",
       "      console.log(\"Bokeh: BokehJS plotting callback run at\", now());\n",
       "      run_inline_js();\n",
       "    });\n",
       "  }\n",
       "}(this));"
      ]
     },
     "metadata": {},
     "output_type": "display_data"
    }
   ],
   "source": [
    "import numpy as np\n",
    "import pandas as pd\n",
    "import datetime as dt\n",
    "from collections import OrderedDict\n",
    "\n",
    "from PyCrop import *\n",
    "\n",
    "#import matplotlib.pyplot as plt\n",
    "#%matplotlib inline \n",
    "from bokeh.plotting import *\n",
    "from bokeh.models import HoverTool\n",
    "output_notebook()"
   ]
  },
  {
   "cell_type": "code",
   "execution_count": 9,
   "metadata": {
    "collapsed": false
   },
   "outputs": [
    {
     "data": {
      "text/plain": [
       "['/Users/Ben/anaconda/lib/python3.5/site-packages']"
      ]
     },
     "execution_count": 9,
     "metadata": {},
     "output_type": "execute_result"
    }
   ],
   "source": [
    "import site\n",
    "site.getsitepackages()"
   ]
  },
  {
   "cell_type": "code",
   "execution_count": null,
   "metadata": {
    "collapsed": false
   },
   "outputs": [],
   "source": []
  },
  {
   "cell_type": "markdown",
   "metadata": {
    "collapsed": false
   },
   "source": [
    "## Run a model ##"
   ]
  },
  {
   "cell_type": "code",
   "execution_count": 2,
   "metadata": {
    "collapsed": false
   },
   "outputs": [
    {
     "ename": "FileNotFoundError",
     "evalue": "[Errno 2] No such file or directory: '.Data/IRRIG.INP'",
     "output_type": "error",
     "traceback": [
      "\u001b[0;31m---------------------------------------------------------------------------\u001b[0m",
      "\u001b[0;31mFileNotFoundError\u001b[0m                         Traceback (most recent call last)",
      "\u001b[0;32m<ipython-input-2-36e647bd9239>\u001b[0m in \u001b[0;36m<module>\u001b[0;34m()\u001b[0m\n\u001b[1;32m      1\u001b[0m \u001b[0mplant_doy\u001b[0m\u001b[0;34m=\u001b[0m\u001b[0;36m200\u001b[0m                           \u001b[0;31m# Planting doy\u001b[0m\u001b[0;34m\u001b[0m\u001b[0m\n\u001b[0;32m----> 2\u001b[0;31m \u001b[0mcroptest\u001b[0m \u001b[0;34m=\u001b[0m \u001b[0mPyCrop\u001b[0m\u001b[0;34m(\u001b[0m\u001b[0mplant_doy\u001b[0m\u001b[0;34m)\u001b[0m            \u001b[0;31m# Create PyCrop class with the day of planting info\u001b[0m\u001b[0;34m\u001b[0m\u001b[0m\n\u001b[0m\u001b[1;32m      3\u001b[0m \u001b[0msw_out\u001b[0m\u001b[0;34m,\u001b[0m \u001b[0mp_out\u001b[0m \u001b[0;34m=\u001b[0m \u001b[0mcroptest\u001b[0m\u001b[0;34m.\u001b[0m\u001b[0msimulate\u001b[0m\u001b[0;34m(\u001b[0m\u001b[0;34m)\u001b[0m     \u001b[0;31m# Run a simulation using the weather data in a local folder\u001b[0m\u001b[0;34m\u001b[0m\u001b[0m\n",
      "\u001b[0;32m/Users/Ben/Work/Python/Programs/PyCrop/PyCrop/PyCrop.py\u001b[0m in \u001b[0;36m__init__\u001b[0;34m(self, doyp)\u001b[0m\n\u001b[1;32m     14\u001b[0m                 \u001b[0;34m:\u001b[0m\u001b[0mrtype\u001b[0m \u001b[0;34m:\u001b[0m \u001b[0mobject\u001b[0m\u001b[0;34m\u001b[0m\u001b[0m\n\u001b[1;32m     15\u001b[0m         \"\"\"\n\u001b[0;32m---> 16\u001b[0;31m         \u001b[0mself\u001b[0m\u001b[0;34m.\u001b[0m\u001b[0mirrigation\u001b[0m \u001b[0;34m=\u001b[0m \u001b[0mGetData\u001b[0m\u001b[0;34m.\u001b[0m\u001b[0mget_irrigation\u001b[0m\u001b[0;34m(\u001b[0m\u001b[0;34m)\u001b[0m\u001b[0;34m\u001b[0m\u001b[0m\n\u001b[0m\u001b[1;32m     17\u001b[0m         \u001b[0mself\u001b[0m\u001b[0;34m.\u001b[0m\u001b[0mweather\u001b[0m \u001b[0;34m=\u001b[0m \u001b[0mGetData\u001b[0m\u001b[0;34m.\u001b[0m\u001b[0mget_weather\u001b[0m\u001b[0;34m(\u001b[0m\u001b[0;34m)\u001b[0m\u001b[0;34m\u001b[0m\u001b[0m\n\u001b[1;32m     18\u001b[0m         \u001b[0mself\u001b[0m\u001b[0;34m.\u001b[0m\u001b[0msoil\u001b[0m \u001b[0;34m=\u001b[0m \u001b[0mGetData\u001b[0m\u001b[0;34m.\u001b[0m\u001b[0mget_soil\u001b[0m\u001b[0;34m(\u001b[0m\u001b[0;34m)\u001b[0m\u001b[0;34m\u001b[0m\u001b[0m\n",
      "\u001b[0;32m/Users/Ben/Work/Python/Programs/PyCrop/PyCrop/PyCrop.py\u001b[0m in \u001b[0;36mget_irrigation\u001b[0;34m()\u001b[0m\n\u001b[1;32m     74\u001b[0m         \u001b[0mirrigation_file\u001b[0m \u001b[0;34m=\u001b[0m \u001b[0;34m\".Data/IRRIG.INP\"\u001b[0m\u001b[0;34m\u001b[0m\u001b[0m\n\u001b[1;32m     75\u001b[0m         \u001b[0mtmp\u001b[0m \u001b[0;34m=\u001b[0m \u001b[0;34m[\u001b[0m\u001b[0;34m]\u001b[0m\u001b[0;34m\u001b[0m\u001b[0m\n\u001b[0;32m---> 76\u001b[0;31m         \u001b[0;32mwith\u001b[0m \u001b[0mopen\u001b[0m\u001b[0;34m(\u001b[0m\u001b[0mirrigation_file\u001b[0m\u001b[0;34m,\u001b[0m \u001b[0;34m'r'\u001b[0m\u001b[0;34m)\u001b[0m \u001b[0;32mas\u001b[0m \u001b[0mf\u001b[0m\u001b[0;34m:\u001b[0m\u001b[0;34m\u001b[0m\u001b[0m\n\u001b[0m\u001b[1;32m     77\u001b[0m             \u001b[0;32mfor\u001b[0m \u001b[0mline\u001b[0m \u001b[0;32min\u001b[0m \u001b[0mf\u001b[0m\u001b[0;34m:\u001b[0m\u001b[0;34m\u001b[0m\u001b[0m\n\u001b[1;32m     78\u001b[0m                 \u001b[0mdate\u001b[0m\u001b[0;34m,\u001b[0m \u001b[0mirr\u001b[0m \u001b[0;34m=\u001b[0m \u001b[0mline\u001b[0m\u001b[0;34m.\u001b[0m\u001b[0msplit\u001b[0m\u001b[0;34m(\u001b[0m\u001b[0;34m)\u001b[0m\u001b[0;34m\u001b[0m\u001b[0m\n",
      "\u001b[0;31mFileNotFoundError\u001b[0m: [Errno 2] No such file or directory: '.Data/IRRIG.INP'"
     ]
    }
   ],
   "source": [
    "plant_doy=200                           # Planting doy\n",
    "croptest = PyCrop(plant_doy)            # Create PyCrop class with the day of planting info\n",
    "sw_out, p_out = croptest.simulate()     # Run a simulation using the weather data in a local folder"
   ]
  },
  {
   "cell_type": "code",
   "execution_count": null,
   "metadata": {
    "collapsed": false
   },
   "outputs": [],
   "source": [
    "# Get a dictionary of all the variables in the code\n",
    "varlist = CustomFunctions.get_variable_defs()"
   ]
  },
  {
   "cell_type": "code",
   "execution_count": null,
   "metadata": {
    "collapsed": false
   },
   "outputs": [],
   "source": [
    "# E.g. of how to use the dictionary to find a specific variable\n",
    "lookup = 'Wr'\n",
    "print('{0}: {1}'.format(lookup, varlist[lookup]))"
   ]
  },
  {
   "cell_type": "markdown",
   "metadata": {
    "collapsed": false
   },
   "source": [
    "## Explore Input data ##"
   ]
  },
  {
   "cell_type": "code",
   "execution_count": null,
   "metadata": {
    "collapsed": false
   },
   "outputs": [],
   "source": [
    "TOOLS=\"pan,wheel_zoom,box_zoom,reset,crosshair,hover\"\n",
    "order = np.sort(croptest.weather.index)\n",
    "\n",
    "# create a new plot\n",
    "s1 = figure(width=600, plot_height=250, title='Weather data',x_axis_type=\"datetime\",tools=TOOLS)\n",
    "s1.circle(order, croptest.weather.tmax[order], size=3, color=\"red\", alpha=0.5)\n",
    "s1.circle(order, croptest.weather.tmin[order], size=3, color=\"blue\", alpha=0.5)\n",
    "\n",
    "# NEW: create a new plot and share both ranges\n",
    "s2 = figure(width=600, height=250, x_range=s1.x_range, title=None,x_axis_type=\"datetime\",tools=TOOLS)\n",
    "s2.circle(order, croptest.weather.rain[order], size=3, color=\"green\", alpha=0.5)\n",
    "\n",
    "# NEW: create a new plot and share only one range\n",
    "s3 = figure(width=600, height=250, x_range=s1.x_range, title=None,x_axis_type=\"datetime\",tools=TOOLS)\n",
    "s3.circle(order, croptest.weather.srad[order], size=3, color=\"red\", alpha=0.5)\n",
    "s3.circle(order, croptest.weather.par[order], size=3, color=\"orange\", alpha=0.5)\n",
    "\n",
    "s1.grid.grid_line_alpha=0\n",
    "s1.yaxis.axis_label = 'T [°C]'\n",
    "s1.ygrid.band_fill_color=\"grey\"\n",
    "s1.ygrid.band_fill_alpha = 0.1\n",
    "\n",
    "s2.grid.grid_line_alpha=0\n",
    "s2.yaxis.axis_label = 'rainfall [mm]'\n",
    "s2.ygrid.band_fill_color=\"grey\"\n",
    "s2.ygrid.band_fill_alpha = 0.1\n",
    "\n",
    "s3.grid.grid_line_alpha=0\n",
    "s3.yaxis.axis_label = \"Rad. [MJ/m²/dy]\"\n",
    "s3.ygrid.band_fill_color=\"grey\"\n",
    "s3.ygrid.band_fill_alpha = 0.1\n",
    "\n",
    "# NEW: put the subplots in a gridplot\n",
    "p = gridplot([[s1] ,[s2], [s3]])\n",
    "\n",
    "# show the results\n",
    "show(p)"
   ]
  },
  {
   "cell_type": "markdown",
   "metadata": {
    "collapsed": true
   },
   "source": [
    "## Explore Outputs ##"
   ]
  },
  {
   "cell_type": "code",
   "execution_count": null,
   "metadata": {
    "collapsed": false
   },
   "outputs": [],
   "source": [
    "# create a new plot\n",
    "o1 = figure(width=600, plot_height=250, title='PyCrop output',x_axis_type=\"datetime\",tools=TOOLS)\n",
    "o1.circle(sw_out.index, sw_out.SWC, size=3, color=\"red\", alpha=0.5)\n",
    "#s1.circle(order, croptest.weather.tmin[order], size=3, color=\"blue\", alpha=0.5)\n",
    "\n",
    "# NEW: create a new plot and share both ranges\n",
    "o2 = figure(width=600, height=250, x_range=o1.x_range, title=None,x_axis_type=\"datetime\",tools=TOOLS)\n",
    "o2.circle(p_out.index, p_out.N, size=3, color=\"green\", alpha=0.5)\n",
    "\n",
    "# NEW: create a new plot and share only one range\n",
    "o3 = figure(width=600, height=250, x_range=o1.x_range, title=None,x_axis_type=\"datetime\",tools=TOOLS)\n",
    "o3.circle(p_out.index, p_out.LAI, size=3, color=\"red\", alpha=0.5)\n",
    "#s3.circle(order, croptest.weather.par[order], size=3, color=\"orange\", alpha=0.5)\n",
    "\n",
    "o4 = figure(width=600, height=250, x_range=o1.x_range, title=None,x_axis_type=\"datetime\",tools=TOOLS)\n",
    "o4.circle(p_out.index, p_out.W, size=3, color=\"red\", alpha=0.5,legend=\"Total\")\n",
    "o4.circle(p_out.index, p_out.Wc, size=3, color=\"blue\", alpha=0.5,legend=\"Canopy\")\n",
    "o4.circle(p_out.index, p_out.Wf, size=3, color=\"green\", alpha=0.5,legend=\"Fruit\")\n",
    "o4.circle(p_out.index, p_out.Wr, size=3, color=\"orange\", alpha=0.5,legend=\"Roots\")\n",
    "\n",
    "o1.grid.grid_line_alpha=0\n",
    "o1.yaxis.axis_label = 'Soil water content'\n",
    "o1.ygrid.band_fill_color=\"grey\"\n",
    "o1.ygrid.band_fill_alpha = 0.1\n",
    "\n",
    "o2.grid.grid_line_alpha=0\n",
    "o2.yaxis.axis_label = 'Leaf number'\n",
    "o2.ygrid.band_fill_color=\"grey\"\n",
    "o2.ygrid.band_fill_alpha = 0.1\n",
    "\n",
    "o3.grid.grid_line_alpha=0\n",
    "o3.yaxis.axis_label = \"LAI\"\n",
    "o3.ygrid.band_fill_color=\"grey\"\n",
    "o3.ygrid.band_fill_alpha = 0.1\n",
    "\n",
    "o4.grid.grid_line_alpha=0\n",
    "o4.yaxis.axis_label = \"Weight [g/m²]\"\n",
    "o4.ygrid.band_fill_color=\"grey\"\n",
    "o4.ygrid.band_fill_alpha = 0.1\n",
    "\n",
    "# NEW: put the subplots in a gridplot\n",
    "p2 = gridplot([[o1] ,[o2], [o3],[o4]])\n",
    "\n",
    "#hover = p.select(dict(type=HoverTool))\n",
    "\n",
    "\n",
    "# show the results\n",
    "show(p2)"
   ]
  },
  {
   "cell_type": "code",
   "execution_count": null,
   "metadata": {
    "collapsed": false
   },
   "outputs": [],
   "source": []
  },
  {
   "cell_type": "code",
   "execution_count": null,
   "metadata": {
    "collapsed": true
   },
   "outputs": [],
   "source": []
  }
 ],
 "metadata": {
  "anaconda-cloud": {},
  "kernelspec": {
   "display_name": "Python [default]",
   "language": "python",
   "name": "python3"
  },
  "language_info": {
   "codemirror_mode": {
    "name": "ipython",
    "version": 3
   },
   "file_extension": ".py",
   "mimetype": "text/x-python",
   "name": "python",
   "nbconvert_exporter": "python",
   "pygments_lexer": "ipython3",
   "version": "3.5.2"
  }
 },
 "nbformat": 4,
 "nbformat_minor": 0
}
